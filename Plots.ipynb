{
 "cells": [
  {
   "cell_type": "code",
   "execution_count": 1,
   "metadata": {},
   "outputs": [],
   "source": [
    "import numpy as np\n",
    "import pandas as pd\n",
    "import matplotlib.pyplot as plt\n",
    "import astropy.io.fits as fits\n",
    "import os\n",
    "import matplotlib.colors as colors"
   ]
  },
  {
   "cell_type": "code",
   "execution_count": 11,
   "metadata": {},
   "outputs": [],
   "source": [
    "# Importing txt file I'll make plots with\n",
    "\n",
    "#names = ['ra', 'dec', 'umag', 'gmag', 'rmag', 'imag', 'z_b', 'flag', 'z_b_ugri'])\n",
    "\n",
    "cmass = '/Users/erinorlovsky/OneDrive - The Ohio State University/Research/DMASS/Catalogs/galaxy_DR12v5_CMASS_North.fits.gz'\n",
    "cat2 = '/Users/erinorlovsky/OneDrive - The Ohio State University/Research/DMASS/Catalogs/KiDS/KV450_G9_reweight_3x4x4_v2_good.cat'\n",
    "cat3 = '/Users/erinorlovsky/OneDrive - The Ohio State University/Research/DMASS/Skyserver_SQL6_25_2020 8_58_19 PM.fits'\n",
    "\n",
    "hdu1 = fits.open(cmass)\n",
    "ra1 = hdu1[1].data['RA']\n",
    "dec1 = hdu1[1].data['DEC']\n",
    "\n",
    "hdu2 = fits.open(cat2)\n",
    "ra2 = hdu2[1].data['ALPHA_J2000']\n",
    "dec2 = hdu2[1].data['DELTA_J2000']\n",
    "\n",
    "hdu3 = fits.open(cat3)\n",
    "ra3 = hdu3[1].data['ra']\n",
    "dec3 = hdu3[1].data['dec']\n",
    "\n",
    "ra2min, ra2max = ra2.min(), ra2.max()\n",
    "\n",
    "umag = hdu2[1].data['MAG_GAAP_u_CALIB']\n",
    "gmag = hdu2[1].data['MAG_GAAP_g_CALIB']\n",
    "rmag = hdu2[1].data['MAG_GAAP_r_CALIB']\n",
    "imag = hdu2[1].data['MAG_GAAP_i_CALIB']\n",
    "\n",
    "u_modelmag = hdu3[1].data['modelMag_u']\n",
    "g_modelmag = hdu3[1].data['modelMag_u']\n",
    "r_modelmag = hdu3[1].data['modelMag_u']\n",
    "i_modelmag = hdu3[1].data['modelMag_u']\n",
    "\n",
    "good = (ra1 > ra2min) & (ra1 < ra2max)\n",
    "\n",
    "good_ra1 = ra1[good]\n",
    "good_dec1 = dec1[good]"
   ]
  },
  {
   "cell_type": "code",
   "execution_count": 15,
   "metadata": {},
   "outputs": [],
   "source": [
    "from astropy import units as u\n",
    "from astropy.coordinates import SkyCoord\n",
    "\n",
    "c = SkyCoord(ra = good_ra1*u.degree, dec = good_dec1*u.degree)\n",
    "c2 = SkyCoord(ra = ra2*u.degree, dec = dec2*u.degree)\n",
    "c3 = SkyCoord(ra = ra3*u.degree, dec = dec3*u.degree)\n",
    "\n",
    "idx1, d2d1, d3d1 = c.match_to_catalog_sky(c2)\n",
    "\n",
    "idx2, d2d2, d3d2 = c2.match_to_catalog_sky(c3)"
   ]
  },
  {
   "cell_type": "code",
   "execution_count": 31,
   "metadata": {},
   "outputs": [
    {
     "data": {
      "text/plain": [
       "Text(0.5, 1.0, 'Hist')"
      ]
     },
     "execution_count": 31,
     "metadata": {},
     "output_type": "execute_result"
    },
    {
     "data": {
      "image/png": "[encoded data removed]",
      "text/plain": [
       "<Figure size 432x288 with 1 Axes>"
      ]
     },
     "metadata": {
      "needs_background": "light"
     },
     "output_type": "display_data"
    }
   ],
   "source": [
    "fig1, ax1 = plt.subplots(tight_layout=True)\n",
    "hist1 = ax1.hist2d(gmag[idx1] - rmag[idx1], rmag[idx1] - imag[idx1], bins = 100, range = [[0.4,3],[0.4,1.8]], norm = colors.LogNorm())\n",
    "\n",
    "d = (rmag[idx2] - imag[idx2]) - ((gmag[idx2] - rmag[idx2]) / 8.)\n",
    "\n",
    "ax1.plot(array, 0.55 + (array / 8.),'r', linewidth = 3)\n",
    "\n",
    "ax1.set_xlabel('g-r')\n",
    "ax1.set_ylabel('r-i')\n",
    "ax1.set_title('Hist')"
   ]
  },
  {
   "cell_type": "code",
   "execution_count": 26,
   "metadata": {},
   "outputs": [],
   "source": [
    "array = np.arange(-3, 3.1, 0.1)"
   ]
  },
  {
   "cell_type": "code",
   "execution_count": null,
   "metadata": {},
   "outputs": [],
   "source": []
  },
  {
   "cell_type": "code",
   "execution_count": null,
   "metadata": {},
   "outputs": [],
   "source": []
  }
 ],
 "metadata": {
  "kernelspec": {
   "display_name": "Python 3",
   "language": "python",
   "name": "python3"
  },
  "language_info": {
   "codemirror_mode": {
    "name": "ipython",
    "version": 3
   },
   "file_extension": ".py",
   "mimetype": "text/x-python",
   "name": "python",
   "nbconvert_exporter": "python",
   "pygments_lexer": "ipython3",
   "version": "3.7.3"
  }
 },
 "nbformat": 4,
 "nbformat_minor": 2
}
